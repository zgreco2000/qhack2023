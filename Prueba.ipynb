{
 "cells": [
  {
   "cell_type": "code",
   "execution_count": 250,
   "id": "743984c4-9a37-4925-a8c7-07733b8d903b",
   "metadata": {},
   "outputs": [
    {
     "name": "stdout",
     "output_type": "stream",
     "text": [
      "[1 0]\n",
      "[0 0]\n"
     ]
    }
   ],
   "source": [
    "import json\n",
    "import pennylane as qml\n",
    "import pennylane.numpy as np\n",
    "\n",
    "dev = qml.device(\"default.qubit\", wires=2, shots=1)\n",
    "        \n",
    "@qml.qnode(dev)\n",
    "def phase_kickback_X(theta):\n",
    "    \"\"\" Given an eigenvector of X, \n",
    "    apply the phase kickback circuit to observe \n",
    "    the probabilities on the control wire\n",
    "    \n",
    "    Args: \n",
    "        eigenvector(String): A string \"plus\" or \"minus\" depicting \n",
    "        the eigenvector of X\n",
    "    \n",
    "    Returns:\n",
    "        array[int]: Measurement outcome on the first qubit using qml.probs()\n",
    "    \"\"\"\n",
    "    # Prepare |ψ>\n",
    "    ##################\n",
    "    # YOUR CODE HERE #\n",
    "    ##################  \n",
    "   \n",
    " \n",
    "    \n",
    "    unitary = qml.RY.compute_matrix(theta)\n",
    "    unitary2 = qml.RY.compute_matrix(theta)\n",
    "    \n",
    "    # Phase kickback\n",
    "    ##################\n",
    "    # YOUR CODE HERE #\n",
    "    ################## \n",
    "    qml.Hadamard(0)\n",
    "    qml.ControlledQubitUnitary(unitary, control_wires=[0], wires = 1, control_values='1')\n",
    "    \n",
    "    qml.ControlledQubitUnitary(unitary2, control_wires=[0], wires = 1, control_values='1')\n",
    "    qml.ControlledQubitUnitary(unitary, control_wires=[0], wires = 1, control_values='1')\n",
    "    qml.Hadamard(0)\n",
    "    \n",
    "    return qml.sample()  \n",
    "\n",
    "theta = 2*np.pi/3\n",
    "theta1 = 4*np.pi/3\n",
    "print(phase_kickback_X(theta))\n",
    "print(phase_kickback_X(theta1))\n"
   ]
  }
 ],
 "metadata": {
  "kernelspec": {
   "display_name": "PennyLane",
   "language": "python",
   "name": "pennylane"
  },
  "language_info": {
   "codemirror_mode": {
    "name": "ipython",
    "version": 3
   },
   "file_extension": ".py",
   "mimetype": "text/x-python",
   "name": "python",
   "nbconvert_exporter": "python",
   "pygments_lexer": "ipython3",
   "version": "3.9.15"
  }
 },
 "nbformat": 4,
 "nbformat_minor": 5
}
