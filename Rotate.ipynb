{
 "cells": [
  {
   "cell_type": "code",
   "execution_count": 15,
   "id": "80efafad-8622-4915-b236-59183531a24a",
   "metadata": {},
   "outputs": [],
   "source": [
    "import json\n",
    "import pennylane as qml\n",
    "import pennylane.numpy as np"
   ]
  },
  {
   "cell_type": "code",
   "execution_count": 21,
   "id": "6e1a8bd0-c21a-4bf3-a0db-351e2d971b73",
   "metadata": {},
   "outputs": [],
   "source": [
    "# Put your code here #\n",
    "\n",
    "dev = qml.device('default.qubit', wires=2)\n",
    "\n",
    "# Create a default.qubit device with 2 qubits / wires using qml.device\n",
    "\n",
    "# Turn your circuit into a QNode\n",
    "@qml.qnode(dev)\n",
    "def circuit(angles):\n",
    "    \"\"\"The quantum circuit that you will simulate.\n",
    "\n",
    "    Args:\n",
    "        angles (list(float)): The gate angles in the circuit.\n",
    "\n",
    "    Returns:\n",
    "        (numpy.tensor): \n",
    "            The probability vector of the underlying quantum state that this circuit produces.\n",
    "    \"\"\"\n",
    "    # Put the rotation gates here\n",
    "\n",
    "    qml.RY(angles[0], wires=0)\n",
    "    qml.RY(angles[1], wires=1)\n",
    "    \n",
    "    return qml.probs(wires=[0,1])"
   ]
  },
  {
   "cell_type": "code",
   "execution_count": 22,
   "id": "3b53d804-a704-42a5-819f-74da29f4c17c",
   "metadata": {},
   "outputs": [],
   "source": [
    "# These functions are responsible for testing the solution. \n",
    "def run(test_case_input: str) -> str:\n",
    "    angles = json.loads(test_case_input)\n",
    "    output = circuit(angles).tolist()\n",
    "\n",
    "    return str(output)\n",
    "\n",
    "def check(solution_output: str, expected_output: str) -> None:\n",
    "    solution_output = json.loads(solution_output)\n",
    "    expected_output = json.loads(expected_output)\n",
    "    assert np.allclose(solution_output, expected_output, rtol=1e-4)\n",
    "    \n"
   ]
  },
  {
   "cell_type": "code",
   "execution_count": 23,
   "id": "6018d365-8db4-4997-a8c8-5e2a2b0a7a5c",
   "metadata": {},
   "outputs": [],
   "source": [
    "test_cases = [['[1.23, 4.56]', '[0.2829251572359589, 0.3841937063262924, 0.1411749135148633, 0.19170622292288542]']]"
   ]
  },
  {
   "cell_type": "code",
   "execution_count": 24,
   "id": "a26c0630-f6d4-43a1-8844-31f5b8f7237f",
   "metadata": {},
   "outputs": [
    {
     "name": "stdout",
     "output_type": "stream",
     "text": [
      "Running test case 0 with input '[1.23, 4.56]'...\n",
      "Correct!\n"
     ]
    }
   ],
   "source": [
    "for i, (input_, expected_output) in enumerate(test_cases):\n",
    "    print(f\"Running test case {i} with input '{input_}'...\")\n",
    "\n",
    "    try:\n",
    "        output = run(input_)\n",
    "\n",
    "    except Exception as exc:\n",
    "        print(f\"Runtime Error. {exc}\")\n",
    "\n",
    "    else:\n",
    "        if message := check(output, expected_output):\n",
    "            print(f\"Wrong Answer. Have: '{output}'. Want: '{expected_output}'.\")\n",
    "\n",
    "        else:\n",
    "            print(\"Correct!\")"
   ]
  }
 ],
 "metadata": {
  "kernelspec": {
   "display_name": "PennyLane",
   "language": "python",
   "name": "pennylane"
  },
  "language_info": {
   "codemirror_mode": {
    "name": "ipython",
    "version": 3
   },
   "file_extension": ".py",
   "mimetype": "text/x-python",
   "name": "python",
   "nbconvert_exporter": "python",
   "pygments_lexer": "ipython3",
   "version": "3.9.15"
  }
 },
 "nbformat": 4,
 "nbformat_minor": 5
}
